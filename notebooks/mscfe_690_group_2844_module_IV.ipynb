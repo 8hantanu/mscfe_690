{
 "cells": [
  {
   "attachments": {},
   "cell_type": "markdown",
   "metadata": {},
   "source": [
    "# Developing Alternatives to VaR (Value-at-Risk)\n",
    "\n",
    "| Name            | Email                          |\n",
    "|-----------------|--------------------------------|\n",
    "| Rohit Singh     | rohitkumar.singh7885@gmail.com |\n",
    "| Sahil Shinde    | sahil311292@gmail.com          |\n",
    "| Shantanu Mishra | 8hantanu@gmail.com             |"
   ]
  },
  {
   "attachments": {},
   "cell_type": "markdown",
   "metadata": {},
   "source": [
    "## Imports"
   ]
  },
  {
   "attachments": {},
   "cell_type": "markdown",
   "metadata": {},
   "source": [
    "## Getting Data"
   ]
  },
  {
   "attachments": {},
   "cell_type": "markdown",
   "metadata": {},
   "source": [
    "## Calculating Returns"
   ]
  },
  {
   "cell_type": "code",
   "execution_count": null,
   "metadata": {},
   "outputs": [],
   "source": []
  }
 ],
 "metadata": {
  "language_info": {
   "name": "python"
  },
  "orig_nbformat": 4
 },
 "nbformat": 4,
 "nbformat_minor": 2
}
