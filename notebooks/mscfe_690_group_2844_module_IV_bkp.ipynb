{
 "cells": [
  {
   "attachments": {},
   "cell_type": "markdown",
   "metadata": {},
   "source": [
    "# Developing Alternatives to VaR (Value-at-Risk)\n",
    "\n",
    "| Name            | Email                          |\n",
    "|-----------------|--------------------------------|\n",
    "| Rohit Singh     | rohitkumar.singh7885@gmail.com |\n",
    "| Sahil Shinde    | sahil311292@gmail.com          |\n",
    "| Shantanu Mishra | 8hantanu@gmail.com             |"
   ]
  },
  {
   "attachments": {},
   "cell_type": "markdown",
   "metadata": {},
   "source": [
    "## Pre-requisites"
   ]
  },
  {
   "attachments": {},
   "cell_type": "markdown",
   "metadata": {},
   "source": [
    "### Install packages"
   ]
  },
  {
   "cell_type": "code",
   "execution_count": 92,
   "metadata": {},
   "outputs": [
    {
     "name": "stdout",
     "output_type": "stream",
     "text": [
      "Requirement already satisfied: yfinance in /usr/local/python/3.10.4/lib/python3.10/site-packages (0.2.18)\n",
      "Requirement already satisfied: frozendict>=2.3.4 in /usr/local/python/3.10.4/lib/python3.10/site-packages (from yfinance) (2.3.7)\n",
      "Requirement already satisfied: html5lib>=1.1 in /usr/local/python/3.10.4/lib/python3.10/site-packages (from yfinance) (1.1)\n",
      "Requirement already satisfied: multitasking>=0.0.7 in /usr/local/python/3.10.4/lib/python3.10/site-packages (from yfinance) (0.0.11)\n",
      "Requirement already satisfied: pandas>=1.3.0 in /home/codespace/.local/lib/python3.10/site-packages (from yfinance) (2.0.0)\n",
      "Requirement already satisfied: numpy>=1.16.5 in /home/codespace/.local/lib/python3.10/site-packages (from yfinance) (1.24.2)\n",
      "Requirement already satisfied: cryptography>=3.3.2 in /usr/local/python/3.10.4/lib/python3.10/site-packages (from yfinance) (40.0.2)\n",
      "Requirement already satisfied: beautifulsoup4>=4.11.1 in /home/codespace/.local/lib/python3.10/site-packages (from yfinance) (4.12.0)\n",
      "Requirement already satisfied: pytz>=2022.5 in /home/codespace/.local/lib/python3.10/site-packages (from yfinance) (2023.3)\n",
      "Requirement already satisfied: lxml>=4.9.1 in /usr/local/python/3.10.4/lib/python3.10/site-packages (from yfinance) (4.9.2)\n",
      "Requirement already satisfied: requests>=2.26 in /home/codespace/.local/lib/python3.10/site-packages (from yfinance) (2.28.2)\n",
      "Requirement already satisfied: appdirs>=1.4.4 in /usr/local/python/3.10.4/lib/python3.10/site-packages (from yfinance) (1.4.4)\n",
      "Requirement already satisfied: soupsieve>1.2 in /home/codespace/.local/lib/python3.10/site-packages (from beautifulsoup4>=4.11.1->yfinance) (2.4)\n",
      "Requirement already satisfied: cffi>=1.12 in /home/codespace/.local/lib/python3.10/site-packages (from cryptography>=3.3.2->yfinance) (1.15.1)\n",
      "Requirement already satisfied: six>=1.9 in /home/codespace/.local/lib/python3.10/site-packages (from html5lib>=1.1->yfinance) (1.16.0)\n",
      "Requirement already satisfied: webencodings in /home/codespace/.local/lib/python3.10/site-packages (from html5lib>=1.1->yfinance) (0.5.1)\n",
      "Requirement already satisfied: python-dateutil>=2.8.2 in /home/codespace/.local/lib/python3.10/site-packages (from pandas>=1.3.0->yfinance) (2.8.2)\n",
      "Requirement already satisfied: tzdata>=2022.1 in /home/codespace/.local/lib/python3.10/site-packages (from pandas>=1.3.0->yfinance) (2023.3)\n",
      "Requirement already satisfied: certifi>=2017.4.17 in /home/codespace/.local/lib/python3.10/site-packages (from requests>=2.26->yfinance) (2022.12.7)\n",
      "Requirement already satisfied: idna<4,>=2.5 in /home/codespace/.local/lib/python3.10/site-packages (from requests>=2.26->yfinance) (3.4)\n",
      "Requirement already satisfied: urllib3<1.27,>=1.21.1 in /home/codespace/.local/lib/python3.10/site-packages (from requests>=2.26->yfinance) (1.26.15)\n",
      "Requirement already satisfied: charset-normalizer<4,>=2 in /home/codespace/.local/lib/python3.10/site-packages (from requests>=2.26->yfinance) (3.1.0)\n",
      "Requirement already satisfied: pycparser in /home/codespace/.local/lib/python3.10/site-packages (from cffi>=1.12->cryptography>=3.3.2->yfinance) (2.21)\n",
      "\n",
      "\u001b[1m[\u001b[0m\u001b[34;49mnotice\u001b[0m\u001b[1;39;49m]\u001b[0m\u001b[39;49m A new release of pip is available: \u001b[0m\u001b[31;49m23.0.1\u001b[0m\u001b[39;49m -> \u001b[0m\u001b[32;49m23.1\u001b[0m\n",
      "\u001b[1m[\u001b[0m\u001b[34;49mnotice\u001b[0m\u001b[1;39;49m]\u001b[0m\u001b[39;49m To update, run: \u001b[0m\u001b[32;49mpython -m pip install --upgrade pip\u001b[0m\n",
      "Requirement already satisfied: pandas_datareader in /usr/local/python/3.10.4/lib/python3.10/site-packages (0.10.0)\n",
      "Requirement already satisfied: pandas>=0.23 in /home/codespace/.local/lib/python3.10/site-packages (from pandas_datareader) (2.0.0)\n",
      "Requirement already satisfied: lxml in /usr/local/python/3.10.4/lib/python3.10/site-packages (from pandas_datareader) (4.9.2)\n",
      "Requirement already satisfied: requests>=2.19.0 in /home/codespace/.local/lib/python3.10/site-packages (from pandas_datareader) (2.28.2)\n",
      "Requirement already satisfied: python-dateutil>=2.8.2 in /home/codespace/.local/lib/python3.10/site-packages (from pandas>=0.23->pandas_datareader) (2.8.2)\n",
      "Requirement already satisfied: pytz>=2020.1 in /home/codespace/.local/lib/python3.10/site-packages (from pandas>=0.23->pandas_datareader) (2023.3)\n",
      "Requirement already satisfied: tzdata>=2022.1 in /home/codespace/.local/lib/python3.10/site-packages (from pandas>=0.23->pandas_datareader) (2023.3)\n",
      "Requirement already satisfied: numpy>=1.21.0 in /home/codespace/.local/lib/python3.10/site-packages (from pandas>=0.23->pandas_datareader) (1.24.2)\n",
      "Requirement already satisfied: charset-normalizer<4,>=2 in /home/codespace/.local/lib/python3.10/site-packages (from requests>=2.19.0->pandas_datareader) (3.1.0)\n",
      "Requirement already satisfied: certifi>=2017.4.17 in /home/codespace/.local/lib/python3.10/site-packages (from requests>=2.19.0->pandas_datareader) (2022.12.7)\n",
      "Requirement already satisfied: urllib3<1.27,>=1.21.1 in /home/codespace/.local/lib/python3.10/site-packages (from requests>=2.19.0->pandas_datareader) (1.26.15)\n",
      "Requirement already satisfied: idna<4,>=2.5 in /home/codespace/.local/lib/python3.10/site-packages (from requests>=2.19.0->pandas_datareader) (3.4)\n",
      "Requirement already satisfied: six>=1.5 in /home/codespace/.local/lib/python3.10/site-packages (from python-dateutil>=2.8.2->pandas>=0.23->pandas_datareader) (1.16.0)\n",
      "\n",
      "\u001b[1m[\u001b[0m\u001b[34;49mnotice\u001b[0m\u001b[1;39;49m]\u001b[0m\u001b[39;49m A new release of pip is available: \u001b[0m\u001b[31;49m23.0.1\u001b[0m\u001b[39;49m -> \u001b[0m\u001b[32;49m23.1\u001b[0m\n",
      "\u001b[1m[\u001b[0m\u001b[34;49mnotice\u001b[0m\u001b[1;39;49m]\u001b[0m\u001b[39;49m To update, run: \u001b[0m\u001b[32;49mpython -m pip install --upgrade pip\u001b[0m\n"
     ]
    }
   ],
   "source": [
    "!pip install yfinance\n",
    "!pip install pandas_datareader"
   ]
  },
  {
   "attachments": {},
   "cell_type": "markdown",
   "metadata": {},
   "source": [
    "### Imports"
   ]
  },
  {
   "cell_type": "code",
   "execution_count": 93,
   "metadata": {},
   "outputs": [],
   "source": [
    "import pandas as pd\n",
    "import numpy as np\n",
    "import matplotlib.pyplot as plt\n",
    "import seaborn as sns\n",
    "from pandas_datareader import data as pdr\n",
    "import yfinance as yf\n",
    "yf.pdr_override()"
   ]
  },
  {
   "attachments": {},
   "cell_type": "markdown",
   "metadata": {},
   "source": [
    "## Import data \n",
    "Data from year 2000 to 2020 for treasury yields for 1, 5, and 10 years"
   ]
  },
  {
   "attachments": {},
   "cell_type": "markdown",
   "metadata": {},
   "source": [
    "### US treasury bonds rates for 1 year yields"
   ]
  },
  {
   "cell_type": "code",
   "execution_count": 94,
   "metadata": {},
   "outputs": [
    {
     "name": "stdout",
     "output_type": "stream",
     "text": [
      "[*********************100%***********************]  1 of 1 completed\n"
     ]
    },
    {
     "data": {
      "text/html": [
       "<div>\n",
       "<style scoped>\n",
       "    .dataframe tbody tr th:only-of-type {\n",
       "        vertical-align: middle;\n",
       "    }\n",
       "\n",
       "    .dataframe tbody tr th {\n",
       "        vertical-align: top;\n",
       "    }\n",
       "\n",
       "    .dataframe thead th {\n",
       "        text-align: right;\n",
       "    }\n",
       "</style>\n",
       "<table border=\"1\" class=\"dataframe\">\n",
       "  <thead>\n",
       "    <tr style=\"text-align: right;\">\n",
       "      <th></th>\n",
       "      <th>Open</th>\n",
       "      <th>High</th>\n",
       "      <th>Low</th>\n",
       "      <th>Close</th>\n",
       "      <th>Adj Close</th>\n",
       "      <th>Volume</th>\n",
       "    </tr>\n",
       "    <tr>\n",
       "      <th>Date</th>\n",
       "      <th></th>\n",
       "      <th></th>\n",
       "      <th></th>\n",
       "      <th></th>\n",
       "      <th></th>\n",
       "      <th></th>\n",
       "    </tr>\n",
       "  </thead>\n",
       "  <tbody>\n",
       "    <tr>\n",
       "      <th>2010-01-04</th>\n",
       "      <td>0.080</td>\n",
       "      <td>0.080</td>\n",
       "      <td>0.055</td>\n",
       "      <td>0.055</td>\n",
       "      <td>0.055</td>\n",
       "      <td>0</td>\n",
       "    </tr>\n",
       "    <tr>\n",
       "      <th>2010-01-05</th>\n",
       "      <td>0.060</td>\n",
       "      <td>0.065</td>\n",
       "      <td>0.040</td>\n",
       "      <td>0.060</td>\n",
       "      <td>0.060</td>\n",
       "      <td>0</td>\n",
       "    </tr>\n",
       "    <tr>\n",
       "      <th>2010-01-06</th>\n",
       "      <td>0.060</td>\n",
       "      <td>0.060</td>\n",
       "      <td>0.045</td>\n",
       "      <td>0.045</td>\n",
       "      <td>0.045</td>\n",
       "      <td>0</td>\n",
       "    </tr>\n",
       "    <tr>\n",
       "      <th>2010-01-07</th>\n",
       "      <td>0.045</td>\n",
       "      <td>0.055</td>\n",
       "      <td>0.040</td>\n",
       "      <td>0.045</td>\n",
       "      <td>0.045</td>\n",
       "      <td>0</td>\n",
       "    </tr>\n",
       "    <tr>\n",
       "      <th>2010-01-08</th>\n",
       "      <td>0.045</td>\n",
       "      <td>0.045</td>\n",
       "      <td>0.035</td>\n",
       "      <td>0.040</td>\n",
       "      <td>0.040</td>\n",
       "      <td>0</td>\n",
       "    </tr>\n",
       "  </tbody>\n",
       "</table>\n",
       "</div>"
      ],
      "text/plain": [
       "             Open   High    Low  Close  Adj Close  Volume\n",
       "Date                                                     \n",
       "2010-01-04  0.080  0.080  0.055  0.055      0.055       0\n",
       "2010-01-05  0.060  0.065  0.040  0.060      0.060       0\n",
       "2010-01-06  0.060  0.060  0.045  0.045      0.045       0\n",
       "2010-01-07  0.045  0.055  0.040  0.045      0.045       0\n",
       "2010-01-08  0.045  0.045  0.035  0.040      0.040       0"
      ]
     },
     "execution_count": 94,
     "metadata": {},
     "output_type": "execute_result"
    }
   ],
   "source": [
    "treasury_1y = pdr.get_data_yahoo('^IRX', start='2010-01-01', end='2020-12-31')\n",
    "treasury_1y.head()"
   ]
  },
  {
   "attachments": {},
   "cell_type": "markdown",
   "metadata": {},
   "source": [
    "### US treasury bonds rates for 5 years yields"
   ]
  },
  {
   "cell_type": "code",
   "execution_count": 95,
   "metadata": {},
   "outputs": [
    {
     "name": "stdout",
     "output_type": "stream",
     "text": [
      "[*********************100%***********************]  1 of 1 completed\n"
     ]
    },
    {
     "data": {
      "text/html": [
       "<div>\n",
       "<style scoped>\n",
       "    .dataframe tbody tr th:only-of-type {\n",
       "        vertical-align: middle;\n",
       "    }\n",
       "\n",
       "    .dataframe tbody tr th {\n",
       "        vertical-align: top;\n",
       "    }\n",
       "\n",
       "    .dataframe thead th {\n",
       "        text-align: right;\n",
       "    }\n",
       "</style>\n",
       "<table border=\"1\" class=\"dataframe\">\n",
       "  <thead>\n",
       "    <tr style=\"text-align: right;\">\n",
       "      <th></th>\n",
       "      <th>Open</th>\n",
       "      <th>High</th>\n",
       "      <th>Low</th>\n",
       "      <th>Close</th>\n",
       "      <th>Adj Close</th>\n",
       "      <th>Volume</th>\n",
       "    </tr>\n",
       "    <tr>\n",
       "      <th>Date</th>\n",
       "      <th></th>\n",
       "      <th></th>\n",
       "      <th></th>\n",
       "      <th></th>\n",
       "      <th></th>\n",
       "      <th></th>\n",
       "    </tr>\n",
       "  </thead>\n",
       "  <tbody>\n",
       "    <tr>\n",
       "      <th>2010-01-04</th>\n",
       "      <td>2.684</td>\n",
       "      <td>2.684</td>\n",
       "      <td>2.633</td>\n",
       "      <td>2.652</td>\n",
       "      <td>2.652</td>\n",
       "      <td>0</td>\n",
       "    </tr>\n",
       "    <tr>\n",
       "      <th>2010-01-05</th>\n",
       "      <td>2.583</td>\n",
       "      <td>2.593</td>\n",
       "      <td>2.549</td>\n",
       "      <td>2.558</td>\n",
       "      <td>2.558</td>\n",
       "      <td>0</td>\n",
       "    </tr>\n",
       "    <tr>\n",
       "      <th>2010-01-06</th>\n",
       "      <td>2.566</td>\n",
       "      <td>2.625</td>\n",
       "      <td>2.558</td>\n",
       "      <td>2.573</td>\n",
       "      <td>2.573</td>\n",
       "      <td>0</td>\n",
       "    </tr>\n",
       "    <tr>\n",
       "      <th>2010-01-07</th>\n",
       "      <td>2.625</td>\n",
       "      <td>2.642</td>\n",
       "      <td>2.574</td>\n",
       "      <td>2.600</td>\n",
       "      <td>2.600</td>\n",
       "      <td>0</td>\n",
       "    </tr>\n",
       "    <tr>\n",
       "      <th>2010-01-08</th>\n",
       "      <td>2.642</td>\n",
       "      <td>2.654</td>\n",
       "      <td>2.527</td>\n",
       "      <td>2.566</td>\n",
       "      <td>2.566</td>\n",
       "      <td>0</td>\n",
       "    </tr>\n",
       "  </tbody>\n",
       "</table>\n",
       "</div>"
      ],
      "text/plain": [
       "             Open   High    Low  Close  Adj Close  Volume\n",
       "Date                                                     \n",
       "2010-01-04  2.684  2.684  2.633  2.652      2.652       0\n",
       "2010-01-05  2.583  2.593  2.549  2.558      2.558       0\n",
       "2010-01-06  2.566  2.625  2.558  2.573      2.573       0\n",
       "2010-01-07  2.625  2.642  2.574  2.600      2.600       0\n",
       "2010-01-08  2.642  2.654  2.527  2.566      2.566       0"
      ]
     },
     "execution_count": 95,
     "metadata": {},
     "output_type": "execute_result"
    }
   ],
   "source": [
    "treasury_5y = pdr.get_data_yahoo('^FVX', start='2010-01-01', end='2020-12-31')\n",
    "treasury_5y.head()"
   ]
  },
  {
   "attachments": {},
   "cell_type": "markdown",
   "metadata": {},
   "source": [
    "### US treasury bonds rates for 10 years yields"
   ]
  },
  {
   "cell_type": "code",
   "execution_count": 96,
   "metadata": {},
   "outputs": [
    {
     "name": "stdout",
     "output_type": "stream",
     "text": [
      "[*********************100%***********************]  1 of 1 completed\n"
     ]
    },
    {
     "data": {
      "text/html": [
       "<div>\n",
       "<style scoped>\n",
       "    .dataframe tbody tr th:only-of-type {\n",
       "        vertical-align: middle;\n",
       "    }\n",
       "\n",
       "    .dataframe tbody tr th {\n",
       "        vertical-align: top;\n",
       "    }\n",
       "\n",
       "    .dataframe thead th {\n",
       "        text-align: right;\n",
       "    }\n",
       "</style>\n",
       "<table border=\"1\" class=\"dataframe\">\n",
       "  <thead>\n",
       "    <tr style=\"text-align: right;\">\n",
       "      <th></th>\n",
       "      <th>Open</th>\n",
       "      <th>High</th>\n",
       "      <th>Low</th>\n",
       "      <th>Close</th>\n",
       "      <th>Adj Close</th>\n",
       "      <th>Volume</th>\n",
       "    </tr>\n",
       "    <tr>\n",
       "      <th>Date</th>\n",
       "      <th></th>\n",
       "      <th></th>\n",
       "      <th></th>\n",
       "      <th></th>\n",
       "      <th></th>\n",
       "      <th></th>\n",
       "    </tr>\n",
       "  </thead>\n",
       "  <tbody>\n",
       "    <tr>\n",
       "      <th>2010-01-04</th>\n",
       "      <td>3.859</td>\n",
       "      <td>3.859</td>\n",
       "      <td>3.808</td>\n",
       "      <td>3.841</td>\n",
       "      <td>3.841</td>\n",
       "      <td>0</td>\n",
       "    </tr>\n",
       "    <tr>\n",
       "      <th>2010-01-05</th>\n",
       "      <td>3.790</td>\n",
       "      <td>3.800</td>\n",
       "      <td>3.749</td>\n",
       "      <td>3.755</td>\n",
       "      <td>3.755</td>\n",
       "      <td>0</td>\n",
       "    </tr>\n",
       "    <tr>\n",
       "      <th>2010-01-06</th>\n",
       "      <td>3.771</td>\n",
       "      <td>3.837</td>\n",
       "      <td>3.761</td>\n",
       "      <td>3.808</td>\n",
       "      <td>3.808</td>\n",
       "      <td>0</td>\n",
       "    </tr>\n",
       "    <tr>\n",
       "      <th>2010-01-07</th>\n",
       "      <td>3.845</td>\n",
       "      <td>3.859</td>\n",
       "      <td>3.800</td>\n",
       "      <td>3.822</td>\n",
       "      <td>3.822</td>\n",
       "      <td>0</td>\n",
       "    </tr>\n",
       "    <tr>\n",
       "      <th>2010-01-08</th>\n",
       "      <td>3.843</td>\n",
       "      <td>3.851</td>\n",
       "      <td>3.775</td>\n",
       "      <td>3.808</td>\n",
       "      <td>3.808</td>\n",
       "      <td>0</td>\n",
       "    </tr>\n",
       "  </tbody>\n",
       "</table>\n",
       "</div>"
      ],
      "text/plain": [
       "             Open   High    Low  Close  Adj Close  Volume\n",
       "Date                                                     \n",
       "2010-01-04  3.859  3.859  3.808  3.841      3.841       0\n",
       "2010-01-05  3.790  3.800  3.749  3.755      3.755       0\n",
       "2010-01-06  3.771  3.837  3.761  3.808      3.808       0\n",
       "2010-01-07  3.845  3.859  3.800  3.822      3.822       0\n",
       "2010-01-08  3.843  3.851  3.775  3.808      3.808       0"
      ]
     },
     "execution_count": 96,
     "metadata": {},
     "output_type": "execute_result"
    }
   ],
   "source": [
    "treasury_10y = pdr.get_data_yahoo('^TNX', start='2010-01-01', end='2020-12-31')\n",
    "treasury_10y.head()\n"
   ]
  },
  {
   "attachments": {},
   "cell_type": "markdown",
   "metadata": {},
   "source": [
    "### Calculate the daily returns"
   ]
  },
  {
   "cell_type": "code",
   "execution_count": 97,
   "metadata": {},
   "outputs": [],
   "source": [
    "# Calculate daily returns for treasury yields\n",
    "treasury_1y['daily_return'] = treasury_1y['Adj Close'].pct_change()\n",
    "treasury_5y['daily_return'] = treasury_5y['Adj Close'].pct_change()\n",
    "treasury_10y['daily_return'] = treasury_10y['Adj Close'].pct_change()\n",
    "\n",
    "# Drop missing values\n",
    "treasury_1y.dropna(inplace=True)\n",
    "treasury_5y.dropna(inplace=True)\n",
    "treasury_10y.dropna(inplace=True)\n",
    "\n"
   ]
  },
  {
   "attachments": {},
   "cell_type": "markdown",
   "metadata": {},
   "source": [
    "## Metrics"
   ]
  },
  {
   "attachments": {},
   "cell_type": "markdown",
   "metadata": {},
   "source": [
    "### Value at Risk (VaR)"
   ]
  },
  {
   "cell_type": "code",
   "execution_count": 98,
   "metadata": {},
   "outputs": [
    {
     "name": "stdout",
     "output_type": "stream",
     "text": [
      "Value at Risk for 1 year treasury yield with 99% confidence level is 0.698\n",
      "Value at Risk for 5 year treasury yield with 99% confidence level is 0.105\n",
      "Value at Risk for 10 year treasury yield with 99% confidence level is 0.071\n"
     ]
    }
   ],
   "source": [
    "def calculate_var(df, confidence_level=0.99):\n",
    "    \"\"\"\n",
    "    Calculate Value at Risk (VaR) for a given confidence level and time horizon\n",
    "    \"\"\"\n",
    "    \n",
    "    sorted_returns = df.sort_values('daily_return')\n",
    "    var = -sorted_returns['daily_return'].quantile(1-confidence_level)\n",
    "\n",
    "    return var\n",
    "\n",
    "# Calculate VaR round for 1 year treasury yield with 99% confidence level\n",
    "var_1y = calculate_var(treasury_1y, 0.99)\n",
    "print(f'Value at Risk for 1 year treasury yield with 99% confidence level is {var_1y:.3f}')\n",
    "\n",
    "# Calculate VaR for 5 year treasury yield with 99% confidence level\n",
    "var_5y = calculate_var(treasury_5y, 0.99)\n",
    "print(f'Value at Risk for 5 year treasury yield with 99% confidence level is {var_5y:.3f}')\n",
    "\n",
    "# Calculate VaR for 10 year treasury yield with 99% confidence level\n",
    "var_10y = calculate_var(treasury_10y, 0.99)\n",
    "print(f'Value at Risk for 10 year treasury yield with 99% confidence level is {var_10y:.3f}')\n"
   ]
  },
  {
   "attachments": {},
   "cell_type": "markdown",
   "metadata": {},
   "source": [
    "### Expected Shortfall (ES)"
   ]
  },
  {
   "cell_type": "code",
   "execution_count": 99,
   "metadata": {},
   "outputs": [
    {
     "name": "stdout",
     "output_type": "stream",
     "text": [
      "Expected Shortfall for 1 year treasury yield with 97.5% confidence level is 0.765\n",
      "Expected Shortfall for 5 year treasury yield with 97.5% confidence level is 0.113\n",
      "Expected Shortfall for 10 year treasury yield with 97.5% confidence level is 0.082\n"
     ]
    }
   ],
   "source": [
    "# Compute ES for a 10 day liquidity horizon based on Basel IV norms which uses a 97.5% confidence level\n",
    "def calculate_es(df, confidence_level=0.975, time_horizon=10):\n",
    "    \"\"\"\n",
    "    Calculate Expected Shortfall (ES) for a given confidence level and time horizon\n",
    "    \"\"\"\n",
    "    \n",
    "    sorted_returns = df.sort_values('daily_return')\n",
    "    var = sorted_returns['daily_return'].quantile(1-confidence_level)\n",
    "    es = -sorted_returns[sorted_returns['daily_return'] <= var]['daily_return'].mean()\n",
    "    \n",
    "    return es\n",
    "\n",
    "# Calculate ES for 1 year treasury yield with 97.5% confidence level\n",
    "es_1y = calculate_es(treasury_1y, 0.975)\n",
    "print(f'Expected Shortfall for 1 year treasury yield with 97.5% confidence level is {es_1y:.3f}')\n",
    "\n",
    "# Calculate ES for 5 year treasury yield with 97.5% confidence level\n",
    "es_5y = calculate_es(treasury_5y, 0.975)\n",
    "print(f'Expected Shortfall for 5 year treasury yield with 97.5% confidence level is {es_5y:.3f}')\n",
    "\n",
    "# Calculate ES for 10 year treasury yield with 97.5% confidence level\n",
    "es_10y = calculate_es(treasury_10y, 0.975)\n",
    "print(f'Expected Shortfall for 10 year treasury yield with 97.5% confidence level is {es_10y:.3f}')\n"
   ]
  },
  {
   "attachments": {},
   "cell_type": "markdown",
   "metadata": {},
   "source": [
    "### ES based on Differentiated Liquidity Horizon (ESD)"
   ]
  },
  {
   "cell_type": "code",
   "execution_count": 100,
   "metadata": {},
   "outputs": [
    {
     "name": "stdout",
     "output_type": "stream",
     "text": [
      "Expected Shortfall for 1 year treasury yield with 97.5% confidence level is 2.650\n",
      "Expected Shortfall for 5 year treasury yield with 97.5% confidence level is 0.393\n",
      "Expected Shortfall for 10 year treasury yield with 97.5% confidence level is 0.285\n"
     ]
    }
   ],
   "source": [
    "def calculate_es_with_liquidity_horizon(df, confidence_level=0.975):\n",
    "\n",
    "    time_horizon = [10, 20, 40, 60, 120]\n",
    "    es_arr = []\n",
    "    es_scaled_arr = []\n",
    "\n",
    "    for i, horizon in enumerate(time_horizon):\n",
    "        es = calculate_es(df, confidence_level, horizon)\n",
    "        if i != 0:\n",
    "            es_scaled = es * np.sqrt((time_horizon[i] - time_horizon[i-1]) / 10)\n",
    "        else:\n",
    "            es_scaled = es\n",
    "        es_arr.append(es)\n",
    "        es_scaled_arr.append(es_scaled)\n",
    "\n",
    "    es_b = np.sqrt(np.sum(np.square(es_scaled_arr)))\n",
    "\n",
    "    return es_b\n",
    "\n",
    "# Calculate ESD for 1 year treasury yield with 97.5% confidence level\n",
    "esd_1y = calculate_es_with_liquidity_horizon(treasury_1y, 0.975)\n",
    "print(f'Expected Shortfall for 1 year treasury yield with 97.5% confidence level is {esd_1y:.3f}')\n",
    "\n",
    "# Calculate ESD for 5 year treasury yield with 97.5% confidence level\n",
    "esd_5y = calculate_es_with_liquidity_horizon(treasury_5y, 0.975)\n",
    "print(f'Expected Shortfall for 5 year treasury yield with 97.5% confidence level is {esd_5y:.3f}')\n",
    "\n",
    "# Calculate ESD for 10 year treasury yield with 97.5% confidence level\n",
    "esd_10y = calculate_es_with_liquidity_horizon(treasury_10y, 0.975)\n",
    "print(f'Expected Shortfall for 10 year treasury yield with 97.5% confidence level is {esd_10y:.3f}')\n"
   ]
  },
  {
   "attachments": {},
   "cell_type": "markdown",
   "metadata": {},
   "source": [
    "### ES based on Spectral Risk Measure (ESS)"
   ]
  },
  {
   "cell_type": "code",
   "execution_count": 101,
   "metadata": {},
   "outputs": [],
   "source": [
    "# TODO:"
   ]
  }
 ],
 "metadata": {
  "kernelspec": {
   "display_name": "Python 3",
   "language": "python",
   "name": "python3"
  },
  "language_info": {
   "codemirror_mode": {
    "name": "ipython",
    "version": 3
   },
   "file_extension": ".py",
   "mimetype": "text/x-python",
   "name": "python",
   "nbconvert_exporter": "python",
   "pygments_lexer": "ipython3",
   "version": "3.10.4"
  },
  "orig_nbformat": 4
 },
 "nbformat": 4,
 "nbformat_minor": 2
}
